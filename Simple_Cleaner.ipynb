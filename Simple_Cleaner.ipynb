{
 "cells": [
  {
   "cell_type": "markdown",
   "metadata": {},
   "source": [
    "# Simple text prep function\n",
    "For use with natural language processing\n",
    "\n",
    "Reference:\n",
    "\n",
    "towardsdatascience.com/a-beginners-guide-to-natural-language-processing-e21e3e016f84"
   ]
  },
  {
   "cell_type": "code",
   "execution_count": 10,
   "metadata": {},
   "outputs": [],
   "source": [
    "import requests"
   ]
  },
  {
   "cell_type": "code",
   "execution_count": 23,
   "metadata": {},
   "outputs": [],
   "source": [
    "def simple_cleaner(raw_txt):\n",
    "    import re\n",
    "    from bs4 import BeautifulSoup\n",
    "    from nltk.corpus import stopwords\n",
    "    # Remove HTML (if there is any)\n",
    "    raw_txt = BeautifulSoup(raw_txt).get_text()\n",
    "    # Extract letters\n",
    "    raw_txt = re.sub(\"[^a-zA-Z]\", \" \", raw_txt)\n",
    "    # Convert to works and parse\n",
    "    raw_wds = raw_txt.lower().split()\n",
    "    # Remove stopwords\n",
    "    raw_txt = [w for w in raw_wds if not w in set(stopwords.words(\"english\"))]\n",
    "    # Rejoin words to string, return result\n",
    "    return(' '.join(raw_txt))"
   ]
  },
  {
   "cell_type": "code",
   "execution_count": 24,
   "metadata": {},
   "outputs": [
    {
     "name": "stdout",
     "output_type": "stream",
     "text": [
      "project gutenberg ebook romeo juliet william shakespeare ebook use anyone anywhere cost almost restr\n"
     ]
    }
   ],
   "source": [
    "print(\n",
    "    simple_cleaner(\n",
    "        requests.get('https://www.gutenberg.org/files/1112/1112.txt').text)[0:100])"
   ]
  },
  {
   "cell_type": "code",
   "execution_count": 25,
   "metadata": {},
   "outputs": [
    {
     "name": "stdout",
     "output_type": "stream",
     "text": [
      "project gutenberg ebook romeo juliet william shakespeare ebook use anyone anywhere cost almost restr\n"
     ]
    }
   ],
   "source": [
    "rjtxt = requests.get('https://www.gutenberg.org/files/1112/1112.txt')\n",
    "print(simple_cleaner(rjtxt.text)[0:100])"
   ]
  },
  {
   "cell_type": "code",
   "execution_count": 30,
   "metadata": {},
   "outputs": [
    {
     "name": "stdout",
     "output_type": "stream",
     "text": [
      "random text test\n"
     ]
    }
   ],
   "source": [
    "print(simple_cleaner('This is some random text to test out.'))"
   ]
  },
  {
   "cell_type": "code",
   "execution_count": null,
   "metadata": {},
   "outputs": [],
   "source": []
  },
  {
   "cell_type": "code",
   "execution_count": null,
   "metadata": {},
   "outputs": [],
   "source": []
  }
 ],
 "metadata": {
  "kernelspec": {
   "display_name": "Python 3",
   "language": "python",
   "name": "python3"
  },
  "language_info": {
   "codemirror_mode": {
    "name": "ipython",
    "version": 3
   },
   "file_extension": ".py",
   "mimetype": "text/x-python",
   "name": "python",
   "nbconvert_exporter": "python",
   "pygments_lexer": "ipython3",
   "version": "3.6.5"
  }
 },
 "nbformat": 4,
 "nbformat_minor": 2
}
